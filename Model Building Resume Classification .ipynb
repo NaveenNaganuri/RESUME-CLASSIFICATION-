{
 "cells": [
  {
   "cell_type": "markdown",
   "id": "37dc384d",
   "metadata": {},
   "source": [
    "## 1. Import Library"
   ]
  },
  {
   "cell_type": "code",
   "execution_count": 1,
   "id": "92cac3af",
   "metadata": {},
   "outputs": [],
   "source": [
    "import numpy as np\n",
    "import pandas as pd\n",
    "import seaborn as sns\n",
    "sns.set_style('darkgrid')\n",
    "%matplotlib inline\n",
    "import matplotlib.pyplot as plt\n",
    "import matplotlib.pylab as pylab\n",
    "from sklearn.model_selection import train_test_split\n",
    "from sklearn.feature_extraction.text import TfidfVectorizer\n",
    "\n",
    "from sklearn.svm import SVC\n",
    "from xgboost import XGBClassifier\n",
    "from sklearn.naive_bayes import MultinomialNB\n",
    "from sklearn.ensemble import BaggingClassifier\n",
    "from sklearn.ensemble import AdaBoostClassifier\n",
    "from sklearn.tree import DecisionTreeClassifier\n",
    "from sklearn.neighbors import KNeighborsClassifier\n",
    "from sklearn.ensemble import RandomForestClassifier\n",
    "from sklearn.linear_model import LogisticRegression\n",
    "from sklearn.ensemble import GradientBoostingClassifier\n",
    "from sklearn.metrics import confusion_matrix, accuracy_score\n",
    "from sklearn.model_selection import train_test_split, cross_val_score\n",
    "from sklearn.metrics import f1_score, classification_report, precision_score, recall_score\n",
    "\n",
    "\n",
    "import warnings\n",
    "warnings.filterwarnings('ignore')"
   ]
  },
  {
   "cell_type": "markdown",
   "id": "b9eaca50",
   "metadata": {},
   "source": [
    "## 2. Import Dataset"
   ]
  },
  {
   "cell_type": "code",
   "execution_count": 2,
   "id": "c85c7638",
   "metadata": {},
   "outputs": [
    {
     "data": {
      "text/html": [
       "<div>\n",
       "<style scoped>\n",
       "    .dataframe tbody tr th:only-of-type {\n",
       "        vertical-align: middle;\n",
       "    }\n",
       "\n",
       "    .dataframe tbody tr th {\n",
       "        vertical-align: top;\n",
       "    }\n",
       "\n",
       "    .dataframe thead th {\n",
       "        text-align: right;\n",
       "    }\n",
       "</style>\n",
       "<table border=\"1\" class=\"dataframe\">\n",
       "  <thead>\n",
       "    <tr style=\"text-align: right;\">\n",
       "      <th></th>\n",
       "      <th>Category</th>\n",
       "      <th>Resume_Details</th>\n",
       "    </tr>\n",
       "  </thead>\n",
       "  <tbody>\n",
       "    <tr>\n",
       "      <th>0</th>\n",
       "      <td>PeopleSoft</td>\n",
       "      <td>anubhav kumar singh work globally competitive ...</td>\n",
       "    </tr>\n",
       "    <tr>\n",
       "      <th>1</th>\n",
       "      <td>PeopleSoft</td>\n",
       "      <td>ananda rayudu profile summary years experience...</td>\n",
       "    </tr>\n",
       "    <tr>\n",
       "      <th>2</th>\n",
       "      <td>PeopleSoft</td>\n",
       "      <td>peoplesoft database administrator gangareddy p...</td>\n",
       "    </tr>\n",
       "    <tr>\n",
       "      <th>3</th>\n",
       "      <td>PeopleSoft</td>\n",
       "      <td>classification internal murali experience summ...</td>\n",
       "    </tr>\n",
       "    <tr>\n",
       "      <th>4</th>\n",
       "      <td>PeopleSoft</td>\n",
       "      <td>priyanka ramadoss mountpleasant coonoor nilgir...</td>\n",
       "    </tr>\n",
       "  </tbody>\n",
       "</table>\n",
       "</div>"
      ],
      "text/plain": [
       "     Category                                     Resume_Details\n",
       "0  PeopleSoft  anubhav kumar singh work globally competitive ...\n",
       "1  PeopleSoft  ananda rayudu profile summary years experience...\n",
       "2  PeopleSoft  peoplesoft database administrator gangareddy p...\n",
       "3  PeopleSoft  classification internal murali experience summ...\n",
       "4  PeopleSoft  priyanka ramadoss mountpleasant coonoor nilgir..."
      ]
     },
     "execution_count": 2,
     "metadata": {},
     "output_type": "execute_result"
    }
   ],
   "source": [
    "resume_data = pd.read_csv('Cleaned_Resumes.csv')\n",
    "resume_data.head()"
   ]
  },
  {
   "cell_type": "markdown",
   "id": "ef25b879",
   "metadata": {},
   "source": [
    "## 3. Data Preprocessing\n",
    "### 3.1 LabelEncoder"
   ]
  },
  {
   "cell_type": "code",
   "execution_count": 3,
   "id": "4771083a",
   "metadata": {},
   "outputs": [
    {
     "data": {
      "text/html": [
       "<div>\n",
       "<style scoped>\n",
       "    .dataframe tbody tr th:only-of-type {\n",
       "        vertical-align: middle;\n",
       "    }\n",
       "\n",
       "    .dataframe tbody tr th {\n",
       "        vertical-align: top;\n",
       "    }\n",
       "\n",
       "    .dataframe thead th {\n",
       "        text-align: right;\n",
       "    }\n",
       "</style>\n",
       "<table border=\"1\" class=\"dataframe\">\n",
       "  <thead>\n",
       "    <tr style=\"text-align: right;\">\n",
       "      <th></th>\n",
       "      <th>Category</th>\n",
       "      <th>Resume_Details</th>\n",
       "      <th>LebelEncoding</th>\n",
       "    </tr>\n",
       "  </thead>\n",
       "  <tbody>\n",
       "    <tr>\n",
       "      <th>0</th>\n",
       "      <td>PeopleSoft</td>\n",
       "      <td>anubhav kumar singh work globally competitive ...</td>\n",
       "      <td>0</td>\n",
       "    </tr>\n",
       "    <tr>\n",
       "      <th>1</th>\n",
       "      <td>PeopleSoft</td>\n",
       "      <td>ananda rayudu profile summary years experience...</td>\n",
       "      <td>0</td>\n",
       "    </tr>\n",
       "    <tr>\n",
       "      <th>2</th>\n",
       "      <td>PeopleSoft</td>\n",
       "      <td>peoplesoft database administrator gangareddy p...</td>\n",
       "      <td>0</td>\n",
       "    </tr>\n",
       "    <tr>\n",
       "      <th>3</th>\n",
       "      <td>PeopleSoft</td>\n",
       "      <td>classification internal murali experience summ...</td>\n",
       "      <td>0</td>\n",
       "    </tr>\n",
       "    <tr>\n",
       "      <th>4</th>\n",
       "      <td>PeopleSoft</td>\n",
       "      <td>priyanka ramadoss mountpleasant coonoor nilgir...</td>\n",
       "      <td>0</td>\n",
       "    </tr>\n",
       "    <tr>\n",
       "      <th>...</th>\n",
       "      <td>...</td>\n",
       "      <td>...</td>\n",
       "      <td>...</td>\n",
       "    </tr>\n",
       "    <tr>\n",
       "      <th>74</th>\n",
       "      <td>Workday</td>\n",
       "      <td>workday integration consultant name sri krishn...</td>\n",
       "      <td>3</td>\n",
       "    </tr>\n",
       "    <tr>\n",
       "      <th>75</th>\n",
       "      <td>Workday</td>\n",
       "      <td>seeking suitable positions workday hcm techno ...</td>\n",
       "      <td>3</td>\n",
       "    </tr>\n",
       "    <tr>\n",
       "      <th>76</th>\n",
       "      <td>Workday</td>\n",
       "      <td>workday hcm fcm name role kumar workday consul...</td>\n",
       "      <td>3</td>\n",
       "    </tr>\n",
       "    <tr>\n",
       "      <th>77</th>\n",
       "      <td>Workday</td>\n",
       "      <td>venkateswarlu workday consultant professional ...</td>\n",
       "      <td>3</td>\n",
       "    </tr>\n",
       "    <tr>\n",
       "      <th>78</th>\n",
       "      <td>Workday</td>\n",
       "      <td>vinay kumar workday functional consultant expe...</td>\n",
       "      <td>3</td>\n",
       "    </tr>\n",
       "  </tbody>\n",
       "</table>\n",
       "<p>79 rows × 3 columns</p>\n",
       "</div>"
      ],
      "text/plain": [
       "      Category                                     Resume_Details  \\\n",
       "0   PeopleSoft  anubhav kumar singh work globally competitive ...   \n",
       "1   PeopleSoft  ananda rayudu profile summary years experience...   \n",
       "2   PeopleSoft  peoplesoft database administrator gangareddy p...   \n",
       "3   PeopleSoft  classification internal murali experience summ...   \n",
       "4   PeopleSoft  priyanka ramadoss mountpleasant coonoor nilgir...   \n",
       "..         ...                                                ...   \n",
       "74     Workday  workday integration consultant name sri krishn...   \n",
       "75     Workday  seeking suitable positions workday hcm techno ...   \n",
       "76     Workday  workday hcm fcm name role kumar workday consul...   \n",
       "77     Workday  venkateswarlu workday consultant professional ...   \n",
       "78     Workday  vinay kumar workday functional consultant expe...   \n",
       "\n",
       "    LebelEncoding  \n",
       "0               0  \n",
       "1               0  \n",
       "2               0  \n",
       "3               0  \n",
       "4               0  \n",
       "..            ...  \n",
       "74              3  \n",
       "75              3  \n",
       "76              3  \n",
       "77              3  \n",
       "78              3  \n",
       "\n",
       "[79 rows x 3 columns]"
      ]
     },
     "execution_count": 3,
     "metadata": {},
     "output_type": "execute_result"
    }
   ],
   "source": [
    "from sklearn.preprocessing import LabelEncoder\n",
    "Encoder=LabelEncoder()\n",
    "resume_data[\"LebelEncoding\"]=Encoder.fit_transform(resume_data [\"Category\"])\n",
    "\n",
    "resume_data"
   ]
  },
  {
   "cell_type": "code",
   "execution_count": 4,
   "id": "794458f5",
   "metadata": {},
   "outputs": [
    {
     "data": {
      "text/html": [
       "<div>\n",
       "<style scoped>\n",
       "    .dataframe tbody tr th:only-of-type {\n",
       "        vertical-align: middle;\n",
       "    }\n",
       "\n",
       "    .dataframe tbody tr th {\n",
       "        vertical-align: top;\n",
       "    }\n",
       "\n",
       "    .dataframe thead th {\n",
       "        text-align: right;\n",
       "    }\n",
       "</style>\n",
       "<table border=\"1\" class=\"dataframe\">\n",
       "  <thead>\n",
       "    <tr style=\"text-align: right;\">\n",
       "      <th></th>\n",
       "      <th>LebelEncoding</th>\n",
       "    </tr>\n",
       "  </thead>\n",
       "  <tbody>\n",
       "    <tr>\n",
       "      <th>count</th>\n",
       "      <td>79.000000</td>\n",
       "    </tr>\n",
       "    <tr>\n",
       "      <th>mean</th>\n",
       "      <td>1.455696</td>\n",
       "    </tr>\n",
       "    <tr>\n",
       "      <th>std</th>\n",
       "      <td>1.141271</td>\n",
       "    </tr>\n",
       "    <tr>\n",
       "      <th>min</th>\n",
       "      <td>0.000000</td>\n",
       "    </tr>\n",
       "    <tr>\n",
       "      <th>25%</th>\n",
       "      <td>0.500000</td>\n",
       "    </tr>\n",
       "    <tr>\n",
       "      <th>50%</th>\n",
       "      <td>1.000000</td>\n",
       "    </tr>\n",
       "    <tr>\n",
       "      <th>75%</th>\n",
       "      <td>3.000000</td>\n",
       "    </tr>\n",
       "    <tr>\n",
       "      <th>max</th>\n",
       "      <td>3.000000</td>\n",
       "    </tr>\n",
       "  </tbody>\n",
       "</table>\n",
       "</div>"
      ],
      "text/plain": [
       "       LebelEncoding\n",
       "count      79.000000\n",
       "mean        1.455696\n",
       "std         1.141271\n",
       "min         0.000000\n",
       "25%         0.500000\n",
       "50%         1.000000\n",
       "75%         3.000000\n",
       "max         3.000000"
      ]
     },
     "execution_count": 4,
     "metadata": {},
     "output_type": "execute_result"
    }
   ],
   "source": [
    "resume_data.describe()"
   ]
  },
  {
   "cell_type": "code",
   "execution_count": 5,
   "id": "dc7ce797",
   "metadata": {},
   "outputs": [
    {
     "data": {
      "text/plain": [
       "Category          0\n",
       "Resume_Details    0\n",
       "LebelEncoding     0\n",
       "dtype: int64"
      ]
     },
     "execution_count": 5,
     "metadata": {},
     "output_type": "execute_result"
    }
   ],
   "source": [
    "resume_data.isnull().sum()"
   ]
  },
  {
   "cell_type": "markdown",
   "id": "6ca6fcec",
   "metadata": {},
   "source": [
    "## 4. Model Building"
   ]
  },
  {
   "cell_type": "markdown",
   "id": "1f672abd",
   "metadata": {},
   "source": [
    "### 4.1 Train - Test Split"
   ]
  },
  {
   "cell_type": "code",
   "execution_count": 6,
   "id": "387f920d",
   "metadata": {},
   "outputs": [],
   "source": [
    "x = resume_data['Resume_Details'].values\n",
    "y = resume_data['Category'].values"
   ]
  },
  {
   "cell_type": "code",
   "execution_count": 7,
   "id": "145860f5",
   "metadata": {},
   "outputs": [
    {
     "data": {
      "text/plain": [
       "((59,), (20,))"
      ]
     },
     "execution_count": 7,
     "metadata": {},
     "output_type": "execute_result"
    }
   ],
   "source": [
    "x_train, x_test, y_train, y_test = train_test_split(x,y, random_state=45, test_size=0.25,stratify=y)\n",
    "x_train.shape, x_test.shape"
   ]
  },
  {
   "cell_type": "markdown",
   "id": "6dfca181",
   "metadata": {},
   "source": [
    "### 4.2 TF-IDF Vectorization"
   ]
  },
  {
   "cell_type": "code",
   "execution_count": 8,
   "id": "b7bdce45",
   "metadata": {},
   "outputs": [],
   "source": [
    "tfidf_vector = TfidfVectorizer(sublinear_tf=True,stop_words='english')"
   ]
  },
  {
   "cell_type": "code",
   "execution_count": 9,
   "id": "ba2bd821",
   "metadata": {},
   "outputs": [],
   "source": [
    "x_train = tfidf_vector.fit_transform(x_train)\n",
    "x_test = tfidf_vector.transform(x_test)"
   ]
  },
  {
   "cell_type": "code",
   "execution_count": 10,
   "id": "a48b815f",
   "metadata": {},
   "outputs": [
    {
     "data": {
      "text/plain": [
       "((59, 3798), (20, 3798))"
      ]
     },
     "execution_count": 10,
     "metadata": {},
     "output_type": "execute_result"
    }
   ],
   "source": [
    "x_train.shape, x_test.shape"
   ]
  },
  {
   "cell_type": "code",
   "execution_count": 11,
   "id": "a141083f",
   "metadata": {},
   "outputs": [
    {
     "name": "stdout",
     "output_type": "stream",
     "text": [
      "['PeopleSoft' 'React JS Developer' 'PeopleSoft' 'Workday' 'SQL Developer'\n",
      " 'SQL Developer' 'React JS Developer' 'PeopleSoft' 'React JS Developer'\n",
      " 'PeopleSoft' 'React JS Developer' 'SQL Developer' 'React JS Developer'\n",
      " 'React JS Developer' 'Workday' 'React JS Developer' 'SQL Developer'\n",
      " 'React JS Developer' 'PeopleSoft' 'React JS Developer'\n",
      " 'React JS Developer' 'Workday' 'PeopleSoft' 'PeopleSoft' 'PeopleSoft'\n",
      " 'SQL Developer' 'Workday' 'Workday' 'Workday' 'React JS Developer'\n",
      " 'Workday' 'React JS Developer' 'SQL Developer' 'Workday'\n",
      " 'React JS Developer' 'Workday' 'SQL Developer' 'Workday' 'PeopleSoft'\n",
      " 'PeopleSoft' 'SQL Developer' 'PeopleSoft' 'Workday' 'SQL Developer'\n",
      " 'PeopleSoft' 'Workday' 'PeopleSoft' 'SQL Developer' 'Workday' 'Workday'\n",
      " 'Workday' 'PeopleSoft' 'React JS Developer' 'React JS Developer'\n",
      " 'React JS Developer' 'PeopleSoft' 'React JS Developer'\n",
      " 'React JS Developer' 'Workday']\n",
      "['PeopleSoft' 'PeopleSoft' 'React JS Developer' 'Workday' 'Workday'\n",
      " 'React JS Developer' 'React JS Developer' 'React JS Developer'\n",
      " 'PeopleSoft' 'React JS Developer' 'SQL Developer' 'SQL Developer'\n",
      " 'SQL Developer' 'SQL Developer' 'Workday' 'Workday' 'PeopleSoft'\n",
      " 'Workday' 'PeopleSoft' 'React JS Developer']\n"
     ]
    },
    {
     "data": {
      "text/plain": [
       "(None, None)"
      ]
     },
     "execution_count": 11,
     "metadata": {},
     "output_type": "execute_result"
    }
   ],
   "source": [
    "print(y_train),print(y_test)"
   ]
  },
  {
   "cell_type": "markdown",
   "id": "4a77df8c",
   "metadata": {},
   "source": [
    "# 5. Classification Models"
   ]
  },
  {
   "cell_type": "markdown",
   "id": "1d1ee97b",
   "metadata": {},
   "source": [
    "## 5.1 KNN Classifier "
   ]
  },
  {
   "cell_type": "code",
   "execution_count": 12,
   "id": "80046a1b",
   "metadata": {},
   "outputs": [
    {
     "name": "stdout",
     "output_type": "stream",
     "text": [
      "Accuracy of training set : 0.66\n",
      "Accuracy of  test set    : 0.60\n",
      "Classification report for classifier KNeighborsClassifier(n_neighbors=41):\n",
      "                    precision    recall  f1-score   support\n",
      "\n",
      "        PeopleSoft       0.33      0.20      0.25         5\n",
      "React JS Developer       0.86      1.00      0.92         6\n",
      "     SQL Developer       0.00      0.00      0.00         4\n",
      "           Workday       0.50      1.00      0.67         5\n",
      "\n",
      "          accuracy                           0.60        20\n",
      "         macro avg       0.42      0.55      0.46        20\n",
      "      weighted avg       0.47      0.60      0.51        20\n",
      "\n",
      "\n"
     ]
    }
   ],
   "source": [
    "model_knn = KNeighborsClassifier(n_neighbors=41)\n",
    "model_knn.fit(x_train, y_train)\n",
    "y_pred = model_knn.predict(x_test)\n",
    "accuracy_knn = accuracy_score(y_test, y_pred)\n",
    "print('Accuracy of training set : {:.2f}'.format(model_knn.score(x_train, y_train)))\n",
    "print('Accuracy of  test set    : {:.2f}'.format(model_knn.score(x_test, y_test)))\n",
    "print(\"Classification report for classifier %s:\\n%s\\n\" % (model_knn,classification_report(y_test, y_pred)))\n",
    "nb_score = model_knn.score(x_test, y_test)\n",
    "nb_cm = confusion_matrix(y_test, y_pred)\n",
    "\n",
    "precision_knn = round(precision_score(y_test,y_pred,average = 'macro'),2)\n",
    "recall_knn = round(recall_score(y_test,y_pred, average = 'macro'),2)\n",
    "f1_knn = round(f1_score(y_test,y_pred, average = 'macro'),2)\n",
    "accuracy_knn = round(accuracy_score(y_test,y_pred),2)"
   ]
  },
  {
   "cell_type": "markdown",
   "id": "e78e6eb5",
   "metadata": {},
   "source": [
    "## 5.2 Decision Tree Classifier"
   ]
  },
  {
   "cell_type": "code",
   "execution_count": 13,
   "id": "8ecee7f9",
   "metadata": {},
   "outputs": [
    {
     "name": "stdout",
     "output_type": "stream",
     "text": [
      "Accuracy of training set : 1.00\n",
      "Accuracy of  test set    : 1.00\n",
      "Classification report for classifier DecisionTreeClassifier():\n",
      "                    precision    recall  f1-score   support\n",
      "\n",
      "        PeopleSoft       1.00      1.00      1.00         5\n",
      "React JS Developer       1.00      1.00      1.00         6\n",
      "     SQL Developer       1.00      1.00      1.00         4\n",
      "           Workday       1.00      1.00      1.00         5\n",
      "\n",
      "          accuracy                           1.00        20\n",
      "         macro avg       1.00      1.00      1.00        20\n",
      "      weighted avg       1.00      1.00      1.00        20\n",
      "\n",
      "\n"
     ]
    }
   ],
   "source": [
    "model_DT = DecisionTreeClassifier(criterion='gini')\n",
    "model_DT.fit(x_train, y_train)\n",
    "y_pred = model_DT.predict(x_test)\n",
    "accuracy_DT = accuracy_score(y_test, y_pred)\n",
    "print('Accuracy of training set : {:.2f}'.format(model_DT.score(x_train, y_train)))\n",
    "print('Accuracy of  test set    : {:.2f}'.format(model_DT.score(x_test, y_test)))\n",
    "print(\"Classification report for classifier %s:\\n%s\\n\" % (model_DT,classification_report(y_test, y_pred)))\n",
    "nb_score = model_DT.score(x_test, y_test)\n",
    "nb_cm = confusion_matrix(y_test, y_pred)\n",
    "\n",
    "precision_DT = round(precision_score(y_test,y_pred,average = 'macro'),2)\n",
    "recall_DT= round(recall_score(y_test,y_pred, average = 'macro'),2)\n",
    "f1_DT = round(f1_score(y_test,y_pred, average = 'macro'),2)\n",
    "accuracy_DT = round(accuracy_score(y_test,y_pred),2)"
   ]
  },
  {
   "cell_type": "markdown",
   "id": "7d124315",
   "metadata": {},
   "source": [
    "## 5.3 Random Forest Classifier"
   ]
  },
  {
   "cell_type": "code",
   "execution_count": 14,
   "id": "b46ada3d",
   "metadata": {},
   "outputs": [
    {
     "name": "stdout",
     "output_type": "stream",
     "text": [
      "Accuracy of training set : 1.00\n",
      "Accuracy of  test set    : 0.95\n",
      "Classification report for classifier RandomForestClassifier(n_estimators=200):\n",
      "                    precision    recall  f1-score   support\n",
      "\n",
      "        PeopleSoft       1.00      0.80      0.89         5\n",
      "React JS Developer       0.86      1.00      0.92         6\n",
      "     SQL Developer       1.00      1.00      1.00         4\n",
      "           Workday       1.00      1.00      1.00         5\n",
      "\n",
      "          accuracy                           0.95        20\n",
      "         macro avg       0.96      0.95      0.95        20\n",
      "      weighted avg       0.96      0.95      0.95        20\n",
      "\n",
      "\n"
     ]
    }
   ],
   "source": [
    "model_RF = RandomForestClassifier(n_estimators=200)\n",
    "model_RF.fit(x_train, y_train)\n",
    "y_pred = model_RF.predict(x_test)\n",
    "accuracy_RF = accuracy_score(y_test, y_pred)\n",
    "print('Accuracy of training set : {:.2f}'.format(model_RF.score(x_train, y_train)))\n",
    "print('Accuracy of  test set    : {:.2f}'.format(model_RF.score(x_test, y_test)))\n",
    "print(\"Classification report for classifier %s:\\n%s\\n\" % (model_RF,classification_report(y_test, y_pred)))\n",
    "nb_score = model_RF.score(x_test, y_test)\n",
    "nb_cm = confusion_matrix(y_test, y_pred)\n",
    "\n",
    "\n",
    "precision_RF = round(precision_score(y_test,y_pred,average = 'macro'),2)\n",
    "recall_RF = round(recall_score(y_test,y_pred, average = 'macro'),2)\n",
    "f1_RF = round(f1_score(y_test,y_pred, average = 'macro'),2)\n",
    "accuracy_RF = round(accuracy_score(y_test,y_pred),2)"
   ]
  },
  {
   "cell_type": "markdown",
   "id": "715565fe",
   "metadata": {},
   "source": [
    "## 5.4 Support Vectore Machine (SVM) Classifier"
   ]
  },
  {
   "cell_type": "code",
   "execution_count": 15,
   "id": "77925379",
   "metadata": {},
   "outputs": [
    {
     "name": "stdout",
     "output_type": "stream",
     "text": [
      "Accuracy of training set : 1.00\n",
      "Accuracy of  test set    : 0.95\n",
      "Classification report for classifier SVC():\n",
      "                    precision    recall  f1-score   support\n",
      "\n",
      "        PeopleSoft       1.00      0.80      0.89         5\n",
      "React JS Developer       0.86      1.00      0.92         6\n",
      "     SQL Developer       1.00      1.00      1.00         4\n",
      "           Workday       1.00      1.00      1.00         5\n",
      "\n",
      "          accuracy                           0.95        20\n",
      "         macro avg       0.96      0.95      0.95        20\n",
      "      weighted avg       0.96      0.95      0.95        20\n",
      "\n",
      "\n"
     ]
    }
   ],
   "source": [
    "model_svm = SVC()\n",
    "model_svm.fit(x_train, y_train)\n",
    "y_pred = model_svm.predict(x_test)\n",
    "accuracy_svm = accuracy_score(y_test, y_pred)\n",
    "print('Accuracy of training set : {:.2f}'.format(model_svm.score(x_train, y_train)))\n",
    "print('Accuracy of  test set    : {:.2f}'.format(model_svm.score(x_test, y_test)))\n",
    "print(\"Classification report for classifier %s:\\n%s\\n\" % (model_svm,classification_report(y_test, y_pred)))\n",
    "nb_score = model_svm.score(x_test, y_test)\n",
    "nb_cm = confusion_matrix(y_test, y_pred)\n",
    "\n",
    "precision_svm = round(precision_score(y_test,y_pred,average = 'macro'),2)\n",
    "recall_svm = round(recall_score(y_test,y_pred, average = 'macro'),2)\n",
    "f1_svm = round(f1_score(y_test,y_pred, average = 'macro'),2)\n",
    "accuracy_svm = round(accuracy_score(y_test,y_pred),2)"
   ]
  },
  {
   "cell_type": "markdown",
   "id": "ea60abff",
   "metadata": {},
   "source": [
    "## 5.5 Logistic Regression"
   ]
  },
  {
   "cell_type": "code",
   "execution_count": 16,
   "id": "6818c154",
   "metadata": {},
   "outputs": [
    {
     "name": "stdout",
     "output_type": "stream",
     "text": [
      "Accuracy of training set : 1.00\n",
      "Accuracy of  test set    : 0.95\n",
      "Classification report for classifier LogisticRegression():\n",
      "                    precision    recall  f1-score   support\n",
      "\n",
      "        PeopleSoft       1.00      0.80      0.89         5\n",
      "React JS Developer       0.86      1.00      0.92         6\n",
      "     SQL Developer       1.00      1.00      1.00         4\n",
      "           Workday       1.00      1.00      1.00         5\n",
      "\n",
      "          accuracy                           0.95        20\n",
      "         macro avg       0.96      0.95      0.95        20\n",
      "      weighted avg       0.96      0.95      0.95        20\n",
      "\n",
      "\n"
     ]
    }
   ],
   "source": [
    "model_lgr = LogisticRegression()\n",
    "model_lgr.fit(x_train, y_train)\n",
    "y_pred = model_lgr.predict(x_test)\n",
    "accuracy_lgr = accuracy_score(y_test, y_pred)\n",
    "print('Accuracy of training set : {:.2f}'.format(model_lgr.score(x_train, y_train)))\n",
    "print('Accuracy of  test set    : {:.2f}'.format(model_lgr.score(x_test, y_test)))\n",
    "print(\"Classification report for classifier %s:\\n%s\\n\" % (model_lgr,classification_report(y_test, y_pred)))\n",
    "nb_score = model_lgr.score(x_test, y_test)\n",
    "nb_cm = confusion_matrix(y_test, y_pred)\n",
    "\n",
    "\n",
    "precision_lgr = round(precision_score(y_test,y_pred,average = 'macro'),2)\n",
    "recall_lgr = round(recall_score(y_test,y_pred, average = 'macro'),2)\n",
    "f1_lgr = round(f1_score(y_test,y_pred, average = 'macro'),2)\n",
    "accuracy_lgr = round(accuracy_score(y_test,y_pred),2)"
   ]
  }
 ],
 "metadata": {
  "kernelspec": {
   "display_name": "Python 3 (ipykernel)",
   "language": "python",
   "name": "python3"
  },
  "language_info": {
   "codemirror_mode": {
    "name": "ipython",
    "version": 3
   },
   "file_extension": ".py",
   "mimetype": "text/x-python",
   "name": "python",
   "nbconvert_exporter": "python",
   "pygments_lexer": "ipython3",
   "version": "3.9.13"
  }
 },
 "nbformat": 4,
 "nbformat_minor": 5
}
